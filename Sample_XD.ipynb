{
 "cells": [
  {
   "cell_type": "markdown",
   "metadata": {},
   "source": [
    "### DR5 magnitude and shape distributions using extreme deconvolution"
   ]
  },
  {
   "cell_type": "code",
   "execution_count": 1,
   "metadata": {
    "collapsed": false
   },
   "outputs": [
    {
     "name": "stdout",
     "output_type": "stream",
     "text": [
      "Populating the interactive namespace from numpy and matplotlib\n"
     ]
    }
   ],
   "source": [
    "%pylab inline"
   ]
  },
  {
   "cell_type": "code",
   "execution_count": 3,
   "metadata": {
    "collapsed": true
   },
   "outputs": [],
   "source": [
    "from astropy.io import fits\n",
    "from astropy.table import Table, join\n",
    "from sklearn.mixture import GaussianMixture\n",
    "from desitarget.targetmask import desi_mask, bgs_mask\n",
    "\n",
    "from astroML.density_estimation import XDGMM\n",
    "\n",
    "import time\n",
    "import pickle\n",
    "import corner as cn"
   ]
  },
  {
   "cell_type": "code",
   "execution_count": 143,
   "metadata": {
    "collapsed": false
   },
   "outputs": [],
   "source": [
    "class XD(object):\n",
    "    \n",
    "    def __init__(self):\n",
    "        \n",
    "        path_to_cuts = 'data/cuts/'\n",
    "        \n",
    "        self.lrg = Table.read(path_to_cuts+'lrg_dr5_subset_cuts.fits')\n",
    "        self.elg = Table.read(path_to_cuts+'elg_dr5_subset_cuts.fits')\n",
    "        self.bgs = Table.read(path_to_cuts+'bgs_dr5_subset_cuts.fits')\n",
    "        self.qso = Table.read(path_to_cuts+'qso_dr5_subset_cuts.fits')\n",
    "        \n",
    "        self.tags = ['FLUX_G', 'FLUX_R', 'FLUX_Z', 'FLUX_W1', 'FLUX_W2']\n",
    "        self.err_tags = ['FLUX_IVAR_G', 'FLUX_IVAR_R', 'FLUX_IVAR_Z', 'FLUX_IVAR_W1', 'FLUX_IVAR_W2']\n",
    "        \n",
    "        self.shape_tags = ['FRACDEV', 'SHAPEDEV_R', 'SHAPEDEV_E1', 'SHAPEDEV_E2', 'SHAPEEXP_R', 'SHAPEEXP_E1', \n",
    "                           'SHAPEEXP_E2']\n",
    "        self.shape_err_tags = ['FRACDEV_IVAR', 'SHAPEDEV_R_IVAR', 'SHAPEDEV_E1_IVAR', 'SHAPEDEV_E2_IVAR', \n",
    "                               'SHAPEEXP_R_IVAR', 'SHAPEEXP_E1_IVAR', 'SHAPEEXP_E2_IVAR']\n",
    "        \n",
    "       \n",
    "    def keep(self, target_type):\n",
    "        \n",
    "        \n",
    "        if target_type == 'QSO':\n",
    "            data = self.qso\n",
    "            \n",
    "            tags = self.tags\n",
    "            err_tags = self.err_tags\n",
    "            \n",
    "            X = np.empty(len(data), dtype=np.dtype([(tt, 'f4') for tt in tags]))\n",
    "            err = np.empty (len(data), dtype=np.dtype([(et, 'f4') for et in err_tags]))\n",
    "            \n",
    "        else:\n",
    "\n",
    "            if target_type == 'LRG':\n",
    "                data = self.lrg\n",
    "            elif target_type == 'ELG':\n",
    "                data = self.elg\n",
    "            elif target_type == 'BGS':\n",
    "                data = self.bgs\n",
    "                \n",
    "            tags = self.tags + self.shape_tags\n",
    "            err_tags = self.err_tags + self.shape_err_tags\n",
    "                \n",
    "            X = np.empty(len(data), dtype=np.dtype([(tt, 'f4') for tt in tags]))\n",
    "            err = np.empty (len(data), dtype=np.dtype([(et, 'f4') for et in err_tags]))\n",
    "            \n",
    "\n",
    "        for tt, et in zip(tags, err_tags):\n",
    "            X[tt] = data[tt]\n",
    "            err[et] = data[et]\n",
    "            \n",
    "        # can clean this up more, possibly split into sub-methods...\n",
    "       \n",
    "        keep = np.ones((len(data),), dtype=bool)\n",
    "        for ii, tt in enumerate(self.tags):\n",
    "            keep &= (X[tt] > 0)\n",
    "\n",
    "        X = X[keep]\n",
    "        err = err[keep]\n",
    "        \n",
    "        for jj, tt in enumerate(self.tags):\n",
    "            X[tt] = 22.5-2.5*np.log10(X[tt])\n",
    "\n",
    "    \n",
    "        return(X, err)\n",
    "    \n",
    "    def split_by_fracdev(self, data, err, eps):\n",
    "                \n",
    "        # condition for devaucouleurs\n",
    "        dev = data['FRACDEV'] > eps\n",
    "        dev_tags = self.shape_tags[1:4]\n",
    "        dev_err_tags = self.shape_err_tags[1:4]\n",
    "        \n",
    "        for ii, st in enumerate(dev_tags):\n",
    "            dev &= (data[st] != 0)\n",
    "            \n",
    "        # condition for exponential\n",
    "        exp = data['FRACDEV'] < eps\n",
    "        exp_tags = self.shape_tags[4:7]\n",
    "        exp_err_tags = self.shape_err_tags[4:7]\n",
    "        \n",
    "        for ii, st in enumerate(exp_tags):\n",
    "            exp &= (data[st] != 0)\n",
    "            \n",
    "        # condition for composite\n",
    "        comp = (data['FRACDEV'] >= eps) & (data['FRACDEV'] <= (1-eps))\n",
    "        comp_tags = self.shape_tags[1:]\n",
    "        comp_err_tags = self.shape_err_tags[1:]\n",
    "        \n",
    "        for ii, st in enumerate(comp_tags):\n",
    "            comp &= (data[st] != 0)\n",
    "            \n",
    "        dev_data = data[dev][self.tags + dev_tags]\n",
    "        dev_err = err[dev][self.err_tags + dev_err_tags]\n",
    "        exp_data = data[exp][self.tags + exp_tags]\n",
    "        exp_err = err[exp][self.err_tags + exp_err_tags]\n",
    "        comp_data = data[comp][self.tags + comp_tags]\n",
    "        comp_err = err[comp][self.err_tags + comp_err_tags]\n",
    "\n",
    "        return(dev_data, dev_err, exp_data, exp_err, comp_data, comp_err)"
   ]
  },
  {
   "cell_type": "code",
   "execution_count": 144,
   "metadata": {
    "collapsed": false
   },
   "outputs": [],
   "source": [
    "xd_obj = XD()"
   ]
  },
  {
   "cell_type": "code",
   "execution_count": 145,
   "metadata": {
    "collapsed": false
   },
   "outputs": [],
   "source": [
    "X_lrg, X_err = xd_obj.keep('LRG')"
   ]
  },
  {
   "cell_type": "code",
   "execution_count": 146,
   "metadata": {
    "collapsed": false
   },
   "outputs": [],
   "source": [
    "lrgDev, lrgDev_err, lrgExp, lrgExp_err, lrgComp, lrgComp_err = xd_obj.split_by_fracdev(X_lrg, X_err, 0.1)"
   ]
  },
  {
   "cell_type": "code",
   "execution_count": null,
   "metadata": {
    "collapsed": true
   },
   "outputs": [],
   "source": []
  },
  {
   "cell_type": "code",
   "execution_count": null,
   "metadata": {
    "collapsed": true
   },
   "outputs": [],
   "source": []
  },
  {
   "cell_type": "code",
   "execution_count": null,
   "metadata": {
    "collapsed": true
   },
   "outputs": [],
   "source": []
  }
 ],
 "metadata": {
  "anaconda-cloud": {},
  "kernelspec": {
   "display_name": "Python [default]",
   "language": "python",
   "name": "python3"
  },
  "language_info": {
   "codemirror_mode": {
    "name": "ipython",
    "version": 3
   },
   "file_extension": ".py",
   "mimetype": "text/x-python",
   "name": "python",
   "nbconvert_exporter": "python",
   "pygments_lexer": "ipython3",
   "version": "3.5.1"
  }
 },
 "nbformat": 4,
 "nbformat_minor": 1
}
