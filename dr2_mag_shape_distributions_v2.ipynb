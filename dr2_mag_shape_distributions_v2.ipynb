{
 "cells": [
  {
   "cell_type": "markdown",
   "metadata": {},
   "source": [
    "## Magnitude  and shape distributions for DR2 targets"
   ]
  },
  {
   "cell_type": "code",
   "execution_count": 1,
   "metadata": {
    "collapsed": false
   },
   "outputs": [
    {
     "name": "stdout",
     "output_type": "stream",
     "text": [
      "Populating the interactive namespace from numpy and matplotlib\n"
     ]
    }
   ],
   "source": [
    "%pylab inline"
   ]
  },
  {
   "cell_type": "code",
   "execution_count": 2,
   "metadata": {
    "collapsed": true
   },
   "outputs": [],
   "source": [
    "import corner as cn\n",
    "import desitarget.cuts\n",
    "\n",
    "from astropy.io import fits\n",
    "from astropy.table import Table, join\n",
    "from sklearn.mixture import GaussianMixture\n",
    "from desitarget.targetmask import desi_mask, bgs_mask"
   ]
  },
  {
   "cell_type": "code",
   "execution_count": 3,
   "metadata": {
    "collapsed": true
   },
   "outputs": [],
   "source": [
    "class GaussianMixtureModel(object):\n",
    "\n",
    "    def __init__(self, weights, means, covars, covtype):\n",
    "        self.weights = weights\n",
    "        self.means = means\n",
    "        self.covars = covars\n",
    "        self.covtype = covtype\n",
    "        self.n_components, self.n_dimensions = self.means.shape\n",
    "    \n",
    "    @staticmethod\n",
    "    def save(model, filename):\n",
    "        hdus = fits.HDUList()\n",
    "        hdr = fits.Header()\n",
    "        hdr['covtype'] = model.covariance_type\n",
    "        hdus.append(fits.ImageHDU(model.weights_, name='weights', header=hdr))\n",
    "        hdus.append(fits.ImageHDU(model.means_, name='means'))\n",
    "        hdus.append(fits.ImageHDU(model.covariances_, name='covars'))\n",
    "        hdus.writeto(filename, overwrite=True)\n",
    "\n",
    "    @staticmethod\n",
    "    def load(filename):\n",
    "        hdus = fits.open(filename, memmap=False)\n",
    "        hdr = hdus[0].header\n",
    "        covtype = hdr['covtype']\n",
    "        model = GaussianMixtureModel(\n",
    "            hdus['weights'].data, hdus['means'].data, hdus['covars'].data, covtype)\n",
    "        hdus.close()\n",
    "        return model\n",
    "        \n",
    "    def sample(self, n_samples=1, random_state=None):\n",
    "        \n",
    "        if self.covtype != 'full':\n",
    "            return NotImplementedError(\n",
    "                'covariance type \"{0}\" not implemented yet.'.format(self.covtype))\n",
    "        \n",
    "        # Code adapted from sklearn's GMM.sample()\n",
    "        if random_state is None:\n",
    "            random_state = np.random.RandomState()\n",
    "\n",
    "        weight_cdf = np.cumsum(self.weights)\n",
    "        X = np.empty((n_samples, self.n_dimensions))\n",
    "        rand = random_state.rand(n_samples)\n",
    "        # decide which component to use for each sample\n",
    "        comps = weight_cdf.searchsorted(rand)\n",
    "        # for each component, generate all needed samples\n",
    "        for comp in range(self.n_components):\n",
    "            # occurrences of current component in X\n",
    "            comp_in_X = (comp == comps)\n",
    "            # number of those occurrences\n",
    "            num_comp_in_X = comp_in_X.sum()\n",
    "            if num_comp_in_X > 0:\n",
    "                X[comp_in_X] = random_state.multivariate_normal(\n",
    "                    self.means[comp], self.covars[comp], num_comp_in_X)\n",
    "        return X"
   ]
  },
  {
   "cell_type": "code",
   "execution_count": 33,
   "metadata": {
    "collapsed": true
   },
   "outputs": [],
   "source": [
    "def keep(data):\n",
    "    #takes in table data for each object type and returns a numpy array of DECAM/WISE magnitudes and shapes\n",
    "    gflux = data['decam_flux'][:,1]\n",
    "    rflux = data['decam_flux'][:,2]\n",
    "    zflux = data['decam_flux'][:,4]\n",
    "    w1flux = data['wise_flux'][:,0]\n",
    "    w2flux = data['wise_flux'][:,1]\n",
    "    w3flux = data['wise_flux'][:,2]\n",
    "    w4flux = data['wise_flux'][:,3]\n",
    "    \n",
    "    #only keep non-zero, non-negative flux values to convert to magnitudes\n",
    "    keep = (gflux > 0) & (rflux > 0) & (zflux > 0) & (w1flux > 0) & (w2flux > 0) & (w3flux > 0) & (w4flux >0)\n",
    "    \n",
    "    gg = 22.5-2.5*np.log10(gflux[keep])\n",
    "    rr = 22.5-2.5*np.log10(rflux[keep])\n",
    "    zz = 22.5-2.5*np.log10(zflux[keep])\n",
    "    w1 = 22.5-2.5*np.log10(w1flux[keep])\n",
    "    w2 = 22.5-2.5*np.log10(w2flux[keep])\n",
    "    w3 = 22.5-2.5*np.log10(w3flux[keep])\n",
    "    w4 = 22.5-2.5*np.log10(w4flux[keep])\n",
    "    \n",
    "    exp_r = data['shapeExp_r'][keep]\n",
    "    exp_e1 = data['shapeExp_e1'][keep]\n",
    "    exp_e2 = data['shapeExp_e2'][keep]\n",
    "    dev_r = data['shapeDev_r'][keep]\n",
    "    dev_e1 = data['shapeDev_e1'][keep]\n",
    "    dev_e2 = data['shapeDev_e2'][keep]\n",
    "    fracdev = data['fracDev'][keep]\n",
    "    \n",
    "    return np.array([gg, rr, zz, w1, w2, w3, w4, exp_r, exp_e1, exp_e2, dev_r, dev_e1, dev_e2, fracdev]).T\n",
    "\n",
    "\n",
    "def get_bic(data, components_range):\n",
    "    bic = []\n",
    "    #generate bic for each component in the range given\n",
    "    for comp in components_range:\n",
    "        model = GaussianMixture(n_components=comp, covariance_type='full')\n",
    "        model.fit(data)\n",
    "        bic.append(model.bic(data))\n",
    "        #print('Component: {:d}'.format(comp))\n",
    "    return bic\n",
    "\n",
    "def plot_bic(bic, components_range):\n",
    "    fig, ax = plt.subplots(1, 1, figsize=(8,4))\n",
    "    ax.plot(components_range, np.asarray(np.asarray(bic)/100), marker='s', ls='-')\n",
    "    ax.set_xlabel('Number of Gaussian Components')\n",
    "    ax.set_ylabel('Bayesian Information Criterion/100')\n",
    "    plt.title('Optimal number of components = {:d}'.format(np.argmin(bic)))\n",
    "    plt.show()  \n",
    "\n",
    "\n",
    "def make_gmm_model(X_data, components_range, model_filename=None, seed=123, bic_plot=False):\n",
    "    #list of bic values for given range of components\n",
    "    bic = get_bic(X_data, components_range)\n",
    "    #option to plot bic values\n",
    "    if bic_plot:\n",
    "        plot_bic(bic, components_range)\n",
    "    #index of lowest bic value gives the optimal number of components\n",
    "    n_comp = np.argmin(bic)\n",
    "    gen = np.random.RandomState(seed)\n",
    "    model = GaussianMixture(n_components=n_comp, covariance_type=\"full\", random_state=gen).fit(X_data)\n",
    "    if model_filename:\n",
    "        GaussianMixtureModel.save(model, model_filename)\n",
    "        print('Saved GMM as {:s}.'.format(model_filename))\n",
    "    else:\n",
    "        return model"
   ]
  },
  {
   "cell_type": "code",
   "execution_count": 5,
   "metadata": {
    "collapsed": true
   },
   "outputs": [],
   "source": [
    "def data_cross_split(params):\n",
    "    #splits data into training and validation sets\n",
    "    tot = len(params)\n",
    "    half = np.floor(tot/2.).astype(int)\n",
    "    data = params[:half]\n",
    "    cross = params[half:tot]\n",
    "    return data, cross\n",
    "\n",
    "def sample(target_type, n_targets, random_state=None):\n",
    "    if target_type == None:\n",
    "        model = GaussianMixtureModel.load(filename)\n",
    "    if target_type == 'LRG':\n",
    "        model = GaussianMixtureModel.load('data/v2/lrg_gmm.fits')\n",
    "    elif target_type == 'ELG':\n",
    "        model = GaussianMixtureModel.load('data/v2/elg_gmm.fits')\n",
    "    elif target_type == 'QSO':\n",
    "        model = GaussianMixtureModel.load('data/v2/qso_gmm.fits')\n",
    "    elif target_type == 'BGS':\n",
    "        model = GaussianMixtureModel.load('data/v2/bgs_gmm.fits')\n",
    "    return  model.sample(n_targets, random_state)"
   ]
  },
  {
   "cell_type": "code",
   "execution_count": 6,
   "metadata": {
    "collapsed": false
   },
   "outputs": [
    {
     "name": "stderr",
     "output_type": "stream",
     "text": [
      "WARNING: UnitsWarning: '1/deg^2' did not parse as fits unit: Numeric factor not supported by FITS [astropy.units.core]\n",
      "WARNING: UnitsWarning: 'nanomaggy' did not parse as fits unit: At col 0, Unit 'nanomaggy' not supported by the FITS standard.  [astropy.units.core]\n",
      "WARNING: UnitsWarning: '1/nanomaggy^2' did not parse as fits unit: Numeric factor not supported by FITS [astropy.units.core]\n",
      "WARNING: UnitsWarning: '1/arcsec^2' did not parse as fits unit: Numeric factor not supported by FITS [astropy.units.core]\n"
     ]
    }
   ],
   "source": [
    "#import selection dr2 targets that have passed selection cuts\n",
    "lrg = Table.read('data/v2/lrg_cuts.fits', format='fits')\n",
    "elg = Table.read('data/v2/elg_cuts.fits', format='fits')\n",
    "qso = Table.read('data/v2/qso_cuts.fits', format='fits')\n",
    "bgs = Table.read('data/v2/bgs_cuts.fits', format='fits')"
   ]
  },
  {
   "cell_type": "code",
   "execution_count": 23,
   "metadata": {
    "collapsed": true
   },
   "outputs": [],
   "source": [
    "#rng for sampling\n",
    "seed = 123\n",
    "gen = np.random.RandomState(seed)\n",
    "\n",
    "#number of components to test for bic\n",
    "components_range = range(1,36)"
   ]
  },
  {
   "cell_type": "code",
   "execution_count": null,
   "metadata": {
    "collapsed": false
   },
   "outputs": [],
   "source": [
    "lrg_params = keep(lrg)\n",
    "#make sure data, sample and cross-validation sets are of same size for comparison\n",
    "lrg_data, lrg_cross = data_cross_split(lrg_params)\n",
    "\n",
    "make_gmm_model(lrg_data, components_range, model_filename='data/v2/lrg_gmm.fits', bic_plot=True)\n",
    "\n",
    "lrg_sample = sample('LRG', n_targets=len(lrg_data), random_state=gen)"
   ]
  },
  {
   "cell_type": "code",
   "execution_count": null,
   "metadata": {
    "collapsed": true
   },
   "outputs": [],
   "source": []
  }
 ],
 "metadata": {
  "anaconda-cloud": {},
  "kernelspec": {
   "display_name": "Python [default]",
   "language": "python",
   "name": "python3"
  },
  "language_info": {
   "codemirror_mode": {
    "name": "ipython",
    "version": 3
   },
   "file_extension": ".py",
   "mimetype": "text/x-python",
   "name": "python",
   "nbconvert_exporter": "python",
   "pygments_lexer": "ipython3",
   "version": "3.5.1"
  }
 },
 "nbformat": 4,
 "nbformat_minor": 1
}
