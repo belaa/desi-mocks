{
 "cells": [
  {
   "cell_type": "code",
   "execution_count": 1,
   "metadata": {
    "collapsed": false
   },
   "outputs": [
    {
     "name": "stdout",
     "output_type": "stream",
     "text": [
      "Populating the interactive namespace from numpy and matplotlib\n"
     ]
    }
   ],
   "source": [
    "%pylab inline"
   ]
  },
  {
   "cell_type": "code",
   "execution_count": 2,
   "metadata": {
    "collapsed": true
   },
   "outputs": [],
   "source": [
    "import os\n",
    "import timeit\n",
    "import time\n",
    "\n",
    "import desitarget.cuts\n",
    "import desitarget.io\n",
    "from desitarget import desi_mask, bgs_mask\n",
    "\n",
    "from astropy.io import fits\n",
    "from astropy.table import Table, Row, vstack"
   ]
  },
  {
   "cell_type": "code",
   "execution_count": 3,
   "metadata": {
    "collapsed": true
   },
   "outputs": [],
   "source": [
    "# Get paths to all .fits files given a list of directories\n",
    "# Make sure dirs is a list, even if it is of length 1\n",
    "# THIS WAS RUN ON CORI -- 'DESI_DR2' is defined there\n",
    "\n",
    "def get_file_paths(dirs, verbose=False):\n",
    "        all_paths = []\n",
    "        for i, dir in enumerate(dirs):\n",
    "                if verbose:\n",
    "                        print('Looking at directory {:s}'.format(dir))\n",
    "                files = os.listdir(os.path.join(os.environ['DESI_DR2'], 'tractor', dir))\n",
    "                files = [fi for fi in files if fi.endswith('.fits')]\n",
    "                if verbose:\n",
    "                        print('Returned {:d} files'.format(len(files)))\n",
    "                for j, file in enumerate(files):\n",
    "                        all_paths.append(os.path.join(os.environ['DESI_DR2'], 'tractor', dir, file))\n",
    "        return all_paths\n",
    "    \n",
    "\n",
    "def get_fits(dirs):\n",
    "   \n",
    "    for i, dir in enumerate(dirs):\n",
    "        path = get_file_paths([dir])\n",
    "\n",
    "        all_lrgs = Table()\n",
    "        all_elgs = Table()\n",
    "        all_qsos = Table()\n",
    "        all_bgs = Table()\n",
    "\n",
    "        for i, pa in enumerate(path):\n",
    "                desi_target, bgs_target, mws_target = cuts.apply_cuts(pa)\n",
    "                t = Table.read(pa)\n",
    "\n",
    "                lrgs = t[(desi_target & desi_mask.LRG).astype(bool)]\n",
    "                elgs = t[(desi_target & desi_mask.ELG).astype(bool)]\n",
    "                qsos = t[(desi_target & desi_mask.QSO).astype(bool)]\n",
    "                bgs = t[(bgs_target & bgs_mask.BGS_BRIGHT).astype(bool)]\n",
    "\n",
    "                all_lrgs = vstack([all_lrgs,lrgs])\n",
    "                all_elgs = vstack([all_elgs,elgs])\n",
    "                all_qsos = vstack([all_qsos, qsos])\n",
    "                all_bgs = vstack([all_bgs, bgs])\n",
    "\n",
    "        all_lrgs.write('lrg_cuts{}.fits'.format(dir), format='fits')\n",
    "        all_elgs.write('elg_cuts{}.fits'.format(dir), format='fits')\n",
    "        all_qsos.write('qso_cuts{}.fits'.format(dir), format='fits')\n",
    "        all_bgs.write('bgs_cuts{}.fits'.format(dir), format='fits')"
   ]
  },
  {
   "cell_type": "markdown",
   "metadata": {},
   "source": [
    "### Import the data"
   ]
  },
  {
   "cell_type": "code",
   "execution_count": 3,
   "metadata": {
    "collapsed": true
   },
   "outputs": [],
   "source": [
    "def make_table(directories, verbose=False):\n",
    "        \n",
    "    lrg_cuts = Table()\n",
    "    elg_cuts = Table()\n",
    "    qso_cuts = Table()\n",
    "    bgs_cuts = Table()\n",
    "    \n",
    "    for i, direct in enumerate(directories):\n",
    "        lrg_path = '/Users/belaabolfathi/Desktop/cuts/lrg_cuts{}.fits'.format(direct)\n",
    "        elg_path = '/Users/belaabolfathi/Desktop/cuts/elg_cuts{}.fits'.format(direct)\n",
    "        qso_path = '/Users/belaabolfathi/Desktop/cuts/qso_cuts{}.fits'.format(direct)\n",
    "        bgs_path = '/Users/belaabolfathi/Desktop/cuts/bgs_cuts{}.fits'.format(direct)\n",
    "        \n",
    "        # Isolate object cuts that return empty tables\n",
    "        \n",
    "        lrgs = Table.read(lrg_path)\n",
    "        elgs = Table.read(elg_path)\n",
    "        qsos = Table.read(qso_path)\n",
    "        bgs = Table.read(bgs_path)\n",
    "        \n",
    "        if len(lrgs) != 0:\n",
    "            lrg_cuts = vstack([lrg_cuts, lrgs])\n",
    "        if len(elgs) != 0:\n",
    "            elg_cuts = vstack([elg_cuts, elgs])\n",
    "        if len(qsos) != 0:\n",
    "            qso_cuts = vstack([qso_cuts, qsos])\n",
    "        if len(bgs) != 0:\n",
    "            bgs_cuts = vstack([bgs_cuts, bgs])\n",
    "    \n",
    "        if verbose:\n",
    "            print('Finished directory {}'.format(direct))\n",
    "    return lrg_cuts, elg_cuts, qso_cuts, bgs_cuts"
   ]
  },
  {
   "cell_type": "code",
   "execution_count": 18,
   "metadata": {
    "collapsed": false
   },
   "outputs": [
    {
     "name": "stderr",
     "output_type": "stream",
     "text": [
      "WARNING: UnitsWarning: '1/deg^2' did not parse as fits unit: Numeric factor not supported by FITS [astropy.units.core]\n",
      "WARNING: UnitsWarning: 'nanomaggy' did not parse as fits unit: At col 0, Unit 'nanomaggy' not supported by the FITS standard.  [astropy.units.core]\n",
      "WARNING: UnitsWarning: '1/nanomaggy^2' did not parse as fits unit: Numeric factor not supported by FITS [astropy.units.core]\n",
      "WARNING: UnitsWarning: '1/arcsec^2' did not parse as fits unit: Numeric factor not supported by FITS [astropy.units.core]\n"
     ]
    },
    {
     "name": "stdout",
     "output_type": "stream",
     "text": [
      "Finished directory 000\n",
      "Finished directory 001\n"
     ]
    },
    {
     "name": "stderr",
     "output_type": "stream",
     "text": [
      "WARNING: MergeConflictWarning: Cannot merge meta key 'TR_G_P2' types <class 'str'> and <class 'str'>, choosing TR_G_P2='brightness.g' [astropy.utils.metadata]\n",
      "WARNING: MergeConflictWarning: Cannot merge meta key 'TR_D_P2' types <class 'str'> and <class 'str'>, choosing TR_D_P2='brightness.g' [astropy.utils.metadata]\n",
      "WARNING: MergeConflictWarning: Cannot merge meta key 'TR_D_P3' types <class 'str'> and <class 'str'>, choosing TR_D_P3='brightness.r' [astropy.utils.metadata]\n",
      "WARNING: MergeConflictWarning: Cannot merge meta key 'TR_D_P4' types <class 'str'> and <class 'str'>, choosing TR_D_P4='brightness.z' [astropy.utils.metadata]\n",
      "WARNING: MergeConflictWarning: Cannot merge meta key 'TR_D_P5' types <class 'str'> and <class 'str'>, choosing TR_D_P5='shape.re' [astropy.utils.metadata]\n",
      "WARNING: MergeConflictWarning: Cannot merge meta key 'TR_S_P2' types <class 'str'> and <class 'str'>, choosing TR_S_P2='brightness.g' [astropy.utils.metadata]\n",
      "WARNING: MergeConflictWarning: Cannot merge meta key 'TR_C_P2' types <class 'str'> and <class 'str'>, choosing TR_C_P2='brightness.g' [astropy.utils.metadata]\n",
      "WARNING: MergeConflictWarning: Cannot merge meta key 'TR_C_P3' types <class 'str'> and <class 'str'>, choosing TR_C_P3='brightness.r' [astropy.utils.metadata]\n",
      "WARNING: MergeConflictWarning: Cannot merge meta key 'TR_C_P4' types <class 'str'> and <class 'str'>, choosing TR_C_P4='brightness.z' [astropy.utils.metadata]\n",
      "WARNING: MergeConflictWarning: Cannot merge meta key 'TR_C_P5' types <class 'str'> and <class 'str'>, choosing TR_C_P5='fracDev.FracDev' [astropy.utils.metadata]\n",
      "WARNING: MergeConflictWarning: Cannot merge meta key 'TR_C_P6' types <class 'str'> and <class 'str'>, choosing TR_C_P6='shapeExp.re' [astropy.utils.metadata]\n",
      "WARNING: MergeConflictWarning: Cannot merge meta key 'TR_C_P7' types <class 'str'> and <class 'str'>, choosing TR_C_P7='shapeExp.e1' [astropy.utils.metadata]\n",
      "WARNING: MergeConflictWarning: Cannot merge meta key 'TR_C_P8' types <class 'str'> and <class 'str'>, choosing TR_C_P8='shapeExp.e2' [astropy.utils.metadata]\n",
      "WARNING: MergeConflictWarning: Cannot merge meta key 'TR_C_P9' types <class 'str'> and <class 'str'>, choosing TR_C_P9='shapeDev.re' [astropy.utils.metadata]\n",
      "WARNING: MergeConflictWarning: Cannot merge meta key 'TR_E_P2' types <class 'str'> and <class 'str'>, choosing TR_E_P2='brightness.g' [astropy.utils.metadata]\n",
      "WARNING: MergeConflictWarning: Cannot merge meta key 'TR_E_P3' types <class 'str'> and <class 'str'>, choosing TR_E_P3='brightness.r' [astropy.utils.metadata]\n",
      "WARNING: MergeConflictWarning: Cannot merge meta key 'TR_E_P4' types <class 'str'> and <class 'str'>, choosing TR_E_P4='brightness.z' [astropy.utils.metadata]\n",
      "WARNING: MergeConflictWarning: Cannot merge meta key 'TR_E_P5' types <class 'str'> and <class 'str'>, choosing TR_E_P5='shape.re' [astropy.utils.metadata]\n"
     ]
    },
    {
     "name": "stdout",
     "output_type": "stream",
     "text": [
      "Finished directory 002\n"
     ]
    },
    {
     "name": "stderr",
     "output_type": "stream",
     "text": [
      "WARNING: MergeConflictWarning: Cannot merge meta key 'TR_G_P2' types <class 'str'> and <class 'str'>, choosing TR_G_P2='brightness.r' [astropy.utils.metadata]\n",
      "WARNING: MergeConflictWarning: Cannot merge meta key 'TR_D_P2' types <class 'str'> and <class 'str'>, choosing TR_D_P2='brightness.r' [astropy.utils.metadata]\n",
      "WARNING: MergeConflictWarning: Cannot merge meta key 'TR_D_P3' types <class 'str'> and <class 'str'>, choosing TR_D_P3='shape.re' [astropy.utils.metadata]\n",
      "WARNING: MergeConflictWarning: Cannot merge meta key 'TR_D_P4' types <class 'str'> and <class 'str'>, choosing TR_D_P4='shape.e1' [astropy.utils.metadata]\n",
      "WARNING: MergeConflictWarning: Cannot merge meta key 'TR_D_P5' types <class 'str'> and <class 'str'>, choosing TR_D_P5='shape.e2' [astropy.utils.metadata]\n",
      "WARNING: MergeConflictWarning: Cannot merge meta key 'TR_S_P2' types <class 'str'> and <class 'str'>, choosing TR_S_P2='brightness.r' [astropy.utils.metadata]\n",
      "WARNING: MergeConflictWarning: Cannot merge meta key 'TR_C_P2' types <class 'str'> and <class 'str'>, choosing TR_C_P2='brightness.r' [astropy.utils.metadata]\n",
      "WARNING: MergeConflictWarning: Cannot merge meta key 'TR_C_P3' types <class 'str'> and <class 'str'>, choosing TR_C_P3='fracDev.FracDev' [astropy.utils.metadata]\n",
      "WARNING: MergeConflictWarning: Cannot merge meta key 'TR_C_P4' types <class 'str'> and <class 'str'>, choosing TR_C_P4='shapeExp.re' [astropy.utils.metadata]\n",
      "WARNING: MergeConflictWarning: Cannot merge meta key 'TR_C_P5' types <class 'str'> and <class 'str'>, choosing TR_C_P5='shapeExp.e1' [astropy.utils.metadata]\n",
      "WARNING: MergeConflictWarning: Cannot merge meta key 'TR_C_P6' types <class 'str'> and <class 'str'>, choosing TR_C_P6='shapeExp.e2' [astropy.utils.metadata]\n",
      "WARNING: MergeConflictWarning: Cannot merge meta key 'TR_C_P7' types <class 'str'> and <class 'str'>, choosing TR_C_P7='shapeDev.re' [astropy.utils.metadata]\n",
      "WARNING: MergeConflictWarning: Cannot merge meta key 'TR_C_P8' types <class 'str'> and <class 'str'>, choosing TR_C_P8='shapeDev.e1' [astropy.utils.metadata]\n",
      "WARNING: MergeConflictWarning: Cannot merge meta key 'TR_C_P9' types <class 'str'> and <class 'str'>, choosing TR_C_P9='shapeDev.e2' [astropy.utils.metadata]\n",
      "WARNING: MergeConflictWarning: Cannot merge meta key 'TR_E_P2' types <class 'str'> and <class 'str'>, choosing TR_E_P2='brightness.r' [astropy.utils.metadata]\n",
      "WARNING: MergeConflictWarning: Cannot merge meta key 'TR_E_P3' types <class 'str'> and <class 'str'>, choosing TR_E_P3='shape.re' [astropy.utils.metadata]\n",
      "WARNING: MergeConflictWarning: Cannot merge meta key 'TR_E_P4' types <class 'str'> and <class 'str'>, choosing TR_E_P4='shape.e1' [astropy.utils.metadata]\n",
      "WARNING: MergeConflictWarning: Cannot merge meta key 'TR_E_P5' types <class 'str'> and <class 'str'>, choosing TR_E_P5='shape.e2' [astropy.utils.metadata]\n"
     ]
    },
    {
     "name": "stdout",
     "output_type": "stream",
     "text": [
      "Finished directory 003\n",
      "Finished directory 004\n"
     ]
    },
    {
     "name": "stderr",
     "output_type": "stream",
     "text": [
      "WARNING: MergeConflictWarning: Cannot merge meta key 'TR_D_P4' types <class 'str'> and <class 'str'>, choosing TR_D_P4='shape.re' [astropy.utils.metadata]\n",
      "WARNING: MergeConflictWarning: Cannot merge meta key 'TR_D_P5' types <class 'str'> and <class 'str'>, choosing TR_D_P5='shape.e1' [astropy.utils.metadata]\n",
      "WARNING: MergeConflictWarning: Cannot merge meta key 'TR_C_P4' types <class 'str'> and <class 'str'>, choosing TR_C_P4='fracDev.FracDev' [astropy.utils.metadata]\n",
      "WARNING: MergeConflictWarning: Cannot merge meta key 'TR_C_P5' types <class 'str'> and <class 'str'>, choosing TR_C_P5='shapeExp.re' [astropy.utils.metadata]\n",
      "WARNING: MergeConflictWarning: Cannot merge meta key 'TR_C_P6' types <class 'str'> and <class 'str'>, choosing TR_C_P6='shapeExp.e1' [astropy.utils.metadata]\n",
      "WARNING: MergeConflictWarning: Cannot merge meta key 'TR_C_P7' types <class 'str'> and <class 'str'>, choosing TR_C_P7='shapeExp.e2' [astropy.utils.metadata]\n",
      "WARNING: MergeConflictWarning: Cannot merge meta key 'TR_C_P8' types <class 'str'> and <class 'str'>, choosing TR_C_P8='shapeDev.re' [astropy.utils.metadata]\n",
      "WARNING: MergeConflictWarning: Cannot merge meta key 'TR_C_P9' types <class 'str'> and <class 'str'>, choosing TR_C_P9='shapeDev.e1' [astropy.utils.metadata]\n",
      "WARNING: MergeConflictWarning: Cannot merge meta key 'TR_E_P4' types <class 'str'> and <class 'str'>, choosing TR_E_P4='shape.re' [astropy.utils.metadata]\n",
      "WARNING: MergeConflictWarning: Cannot merge meta key 'TR_E_P5' types <class 'str'> and <class 'str'>, choosing TR_E_P5='shape.e1' [astropy.utils.metadata]\n",
      "WARNING: MergeConflictWarning: Cannot merge meta key 'TR_D_P6' types <class 'str'> and <class 'str'>, choosing TR_D_P6='shape.e2' [astropy.utils.metadata]\n",
      "WARNING: MergeConflictWarning: Cannot merge meta key 'TR_C_P10' types <class 'str'> and <class 'str'>, choosing TR_C_P10='shapeDev.e2' [astropy.utils.metadata]\n",
      "WARNING: MergeConflictWarning: Cannot merge meta key 'TR_E_P6' types <class 'str'> and <class 'str'>, choosing TR_E_P6='shape.e2' [astropy.utils.metadata]\n"
     ]
    },
    {
     "name": "stdout",
     "output_type": "stream",
     "text": [
      "Finished directory 005\n",
      "Finished directory 006\n"
     ]
    },
    {
     "name": "stderr",
     "output_type": "stream",
     "text": [
      "WARNING: MergeConflictWarning: Cannot merge meta key 'TR_G_P2' types <class 'str'> and <class 'str'>, choosing TR_G_P2='brightness.z' [astropy.utils.metadata]\n",
      "WARNING: MergeConflictWarning: Cannot merge meta key 'TR_D_P2' types <class 'str'> and <class 'str'>, choosing TR_D_P2='brightness.z' [astropy.utils.metadata]\n",
      "WARNING: MergeConflictWarning: Cannot merge meta key 'TR_D_P6' types <class 'str'> and <class 'str'>, choosing TR_D_P6='shape.e1' [astropy.utils.metadata]\n",
      "WARNING: MergeConflictWarning: Cannot merge meta key 'TR_S_P2' types <class 'str'> and <class 'str'>, choosing TR_S_P2='brightness.z' [astropy.utils.metadata]\n",
      "WARNING: MergeConflictWarning: Cannot merge meta key 'TR_C_P2' types <class 'str'> and <class 'str'>, choosing TR_C_P2='brightness.z' [astropy.utils.metadata]\n",
      "WARNING: MergeConflictWarning: Cannot merge meta key 'TR_C_P10' types <class 'str'> and <class 'str'>, choosing TR_C_P10='shapeDev.e1' [astropy.utils.metadata]\n",
      "WARNING: MergeConflictWarning: Cannot merge meta key 'TR_E_P2' types <class 'str'> and <class 'str'>, choosing TR_E_P2='brightness.z' [astropy.utils.metadata]\n",
      "WARNING: MergeConflictWarning: Cannot merge meta key 'TR_E_P6' types <class 'str'> and <class 'str'>, choosing TR_E_P6='shape.e1' [astropy.utils.metadata]\n"
     ]
    },
    {
     "name": "stdout",
     "output_type": "stream",
     "text": [
      "Finished directory 110\n",
      "Finished directory 111\n",
      "Finished directory 112\n",
      "Finished directory 113\n",
      "Finished directory 114\n",
      "Finished directory 139\n",
      "Finished directory 140\n",
      "Finished directory 141\n",
      "Finished directory 142\n",
      "Finished directory 216\n"
     ]
    },
    {
     "name": "stderr",
     "output_type": "stream",
     "text": [
      "WARNING: MergeConflictWarning: Cannot merge meta key 'TR_G_P3' types <class 'str'> and <class 'str'>, choosing TR_G_P3='brightness.z' [astropy.utils.metadata]\n",
      "WARNING: MergeConflictWarning: Cannot merge meta key 'TR_S_P3' types <class 'str'> and <class 'str'>, choosing TR_S_P3='brightness.z' [astropy.utils.metadata]\n"
     ]
    },
    {
     "name": "stdout",
     "output_type": "stream",
     "text": [
      "Finished directory 217\n",
      "Finished directory 218\n",
      "Finished directory 219\n"
     ]
    },
    {
     "name": "stderr",
     "output_type": "stream",
     "text": [
      "WARNING: MergeConflictWarning: Cannot merge meta key 'TR_G_P3' types <class 'str'> and <class 'str'>, choosing TR_G_P3='brightness.r' [astropy.utils.metadata]\n",
      "WARNING: MergeConflictWarning: Cannot merge meta key 'TR_S_P3' types <class 'str'> and <class 'str'>, choosing TR_S_P3='brightness.r' [astropy.utils.metadata]\n"
     ]
    },
    {
     "name": "stdout",
     "output_type": "stream",
     "text": [
      "Finished directory 314\n",
      "Finished directory 315\n",
      "Finished directory 316\n",
      "Finished directory 317\n"
     ]
    }
   ],
   "source": [
    "directories = ['000', '001', '002', '003', '004', '005', '006', '110', '111', '112', '113', \n",
    "               '114', '139', '140', '141', '142', '216', '217', '218', '219', '314', '315', \n",
    "               '316', '317']\n",
    "\n",
    "lrgs, elgs, qsos, bgs = make_table(directories, verbose=True)"
   ]
  },
  {
   "cell_type": "code",
   "execution_count": 19,
   "metadata": {
    "collapsed": false
   },
   "outputs": [
    {
     "data": {
      "image/png": "[encoded data removed]",
      "text/plain": [
       "<matplotlib.figure.Figure at 0x110bb3b70>"
      ]
     },
     "metadata": {},
     "output_type": "display_data"
    }
   ],
   "source": [
    "plt.scatter(lrgs['ra'], lrgs['dec'], alpha=0.3, lw=0, s=1)\n",
    "plt.scatter(elgs['ra'], elgs['dec'], alpha=0.3, lw=0, s=1)\n",
    "plt.scatter(qsos['ra'], qsos['dec'], alpha=0.3, lw=0, s=1)\n",
    "plt.scatter(bgs['ra'], bgs['dec'], alpha=0.3, lw=0, s=1)\n",
    "plt.show()"
   ]
  },
  {
   "cell_type": "code",
   "execution_count": 20,
   "metadata": {
    "collapsed": false
   },
   "outputs": [
    {
     "name": "stdout",
     "output_type": "stream",
     "text": [
      "704249 379835 64986 242640\n",
      "1391710\n"
     ]
    }
   ],
   "source": [
    "print(len(lrgs), len(elgs), len(qsos), len(bgs))\n",
    "print(len(lrgs)+len(elgs)+len(qsos)+len(bgs))"
   ]
  },
  {
   "cell_type": "code",
   "execution_count": 22,
   "metadata": {
    "collapsed": false
   },
   "outputs": [],
   "source": [
    "lrgs.write('lrg_cuts.fits')"
   ]
  },
  {
   "cell_type": "code",
   "execution_count": 25,
   "metadata": {
    "collapsed": true
   },
   "outputs": [],
   "source": [
    "elgs.write('elg_cuts.fits')"
   ]
  },
  {
   "cell_type": "code",
   "execution_count": 26,
   "metadata": {
    "collapsed": true
   },
   "outputs": [],
   "source": [
    "qsos.write('qso_cuts.fits')"
   ]
  },
  {
   "cell_type": "code",
   "execution_count": 27,
   "metadata": {
    "collapsed": true
   },
   "outputs": [],
   "source": [
    "bgs.write('bgs_cuts.fits')"
   ]
  },
  {
   "cell_type": "code",
   "execution_count": 28,
   "metadata": {
    "collapsed": false
   },
   "outputs": [
    {
     "name": "stdout",
     "output_type": "stream",
     "text": [
      "apply_cuts.ipynb bgs_cuts.fits    lrg_cuts.fits    \u001b[1m\u001b[36mtractor\u001b[m\u001b[m\r\n",
      "apply_cuts.py    elg_cuts.fits    qso_cuts.fits\r\n"
     ]
    }
   ],
   "source": [
    "!ls"
   ]
  },
  {
   "cell_type": "markdown",
   "metadata": {},
   "source": [
    "### Original `all_cuts.fits`"
   ]
  },
  {
   "cell_type": "code",
   "execution_count": 18,
   "metadata": {
    "collapsed": true
   },
   "outputs": [],
   "source": [
    "# Compare against all_cuts.fits\n",
    "cuts = Table.read('/Users/belaabolfathi/Downloads/all_cuts.fits')"
   ]
  },
  {
   "cell_type": "code",
   "execution_count": 19,
   "metadata": {
    "collapsed": false
   },
   "outputs": [],
   "source": [
    "lrg_targets = cuts['DESI_TARGET'] & desi_mask.LRG\n",
    "elg_targets = cuts['DESI_TARGET'] & desi_mask.ELG\n",
    "qso_targets = cuts['DESI_TARGET'] & desi_mask.QSO\n",
    "bgs_targets = cuts['BGS_TARGET'] & bgs_mask.BGS_BRIGHT\n",
    "lrgs = lrg_targets.astype(bool)\n",
    "elgs = elg_targets.astype(bool)\n",
    "qsos = qso_targets.astype(bool)\n",
    "bgs = bgs_targets.astype(bool)\n",
    "\n",
    "LRG = cuts[lrgs]\n",
    "ELG = cuts[elgs]\n",
    "QSO = cuts[qsos]\n",
    "BGS = cuts[bgs]\n"
   ]
  },
  {
   "cell_type": "code",
   "execution_count": 20,
   "metadata": {
    "collapsed": false
   },
   "outputs": [
    {
     "data": {
      "text/plain": [
       "421326"
      ]
     },
     "execution_count": 20,
     "metadata": {},
     "output_type": "execute_result"
    }
   ],
   "source": [
    "len(cuts)"
   ]
  },
  {
   "cell_type": "code",
   "execution_count": 21,
   "metadata": {
    "collapsed": false
   },
   "outputs": [
    {
     "data": {
      "image/png": "[encoded data removed]",
      "text/plain": [
       "<matplotlib.figure.Figure at 0x117082b38>"
      ]
     },
     "metadata": {},
     "output_type": "display_data"
    }
   ],
   "source": [
    "plt.scatter(cuts['RA'], cuts['DEC'], alpha=0.3, lw=0, s=1)\n",
    "plt.show()"
   ]
  },
  {
   "cell_type": "code",
   "execution_count": 9,
   "metadata": {
    "collapsed": false
   },
   "outputs": [
    {
     "data": {
      "image/png": "[encoded data removed]",
      "text/plain": [
       "<matplotlib.figure.Figure at 0x113b72e10>"
      ]
     },
     "metadata": {},
     "output_type": "display_data"
    }
   ],
   "source": [
    "plt.scatter(lrgs['ra'], lrgs['dec'], alpha=0.3, lw=0, s=1)\n",
    "plt.scatter(elgs['ra'], elgs['dec'], alpha=0.3, lw=0, s=1)\n",
    "plt.scatter(qsos['ra'], qsos['dec'], alpha=0.3, lw=0, s=1)\n",
    "plt.scatter(bgs['ra'], bgs['dec'], alpha=0.3, lw=0, s=1)\n",
    "plt.xlim(0,120)\n",
    "plt.show()"
   ]
  },
  {
   "cell_type": "code",
   "execution_count": null,
   "metadata": {
    "collapsed": true
   },
   "outputs": [],
   "source": []
  }
 ],
 "metadata": {
  "anaconda-cloud": {},
  "kernelspec": {
   "display_name": "Python [default]",
   "language": "python",
   "name": "python3"
  },
  "language_info": {
   "codemirror_mode": {
    "name": "ipython",
    "version": 3
   },
   "file_extension": ".py",
   "mimetype": "text/x-python",
   "name": "python",
   "nbconvert_exporter": "python",
   "pygments_lexer": "ipython3",
   "version": "3.5.1"
  }
 },
 "nbformat": 4,
 "nbformat_minor": 1
}
